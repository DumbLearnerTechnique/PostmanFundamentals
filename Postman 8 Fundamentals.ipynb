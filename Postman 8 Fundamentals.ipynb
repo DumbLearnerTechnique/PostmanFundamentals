{
 "cells": [
  {
   "cell_type": "markdown",
   "metadata": {},
   "source": [
    "## Table of contents\n",
    "\n",
    "1. <a href=\"#1.-Course-Overview\">Course Overview</a>\n",
    "2. <a href=\"#2.-Version-Check\">Version Check</a>\n",
    "3. <a href=\"#3.-Setting-the-Stage\">Setting the Stage</a>\n"
   ]
  },
  {
   "cell_type": "markdown",
   "metadata": {},
   "source": [
    "## From the perspective of the Manager helping out the New Employee"
   ]
  },
  {
   "cell_type": "markdown",
   "metadata": {},
   "source": [
    "## 1. Course Overview"
   ]
  },
  {
   "cell_type": "markdown",
   "metadata": {},
   "source": [
    "- Postman is used to Document, Test, And Interact with APIs\n",
    "- This course teaches, starting from making simple requests, all the way to mocking out an API\n",
    "- Major Topics covered include:\n",
    "    - Making API requests using different environments\n",
    "    - Automated testing an API\n",
    "    - Scripting API workflows\n",
    "    - Documenting an API\n",
    "    \n",
    "**Read time: 1m 1s**"
   ]
  },
  {
   "cell_type": "markdown",
   "metadata": {},
   "source": [
    "## 2. Version Check"
   ]
  },
  {
   "cell_type": "markdown",
   "metadata": {},
   "source": [
    " - Postman 8.9 and newer\n",
    " \n",
    " \n",
    " **Read time: 0m 15s**"
   ]
  },
  {
   "cell_type": "markdown",
   "metadata": {},
   "source": [
    "## 3. Setting the Stage"
   ]
  },
  {
   "cell_type": "markdown",
   "metadata": {},
   "source": [
    "#### Journey of new Employee:\n",
    "\n",
    "- Welcome to GLOBOMANTICS (e-commerce company)\n",
    "- We have APIs for just about everything from buying our products, adding new items to our inventory, and collecting payments\n",
    "- We also have APIs that are available for consumers to use, allowing our users to build up a home library as an example\n",
    "- **Teams that'll help the new Employee:**\n",
    "\n",
    "    - **Front-end (client-facing Applications) Team:**\n",
    "        - Roman is an Application developer\n",
    "        - He uses APIs to give our customers an amazing integrated experience across our product line. \n",
    "        - But he is not the one who actually creates new APIs \n",
    "        - Roman loves that he can use Postman to mock out data when the API isn't quite ready yet\n",
    "        - Roman also figured out how to use Postman to get his application set up just right without needing to click through bunch of screens entering data\n",
    "\n",
    "    - **Back End API Team:**\n",
    "        - Ana is an API developer\n",
    "        - She created one of the APIs for us, she also guides a team of API developers on their design and implementation of new APIs\n",
    "        - Ana loves how easy Postman make it to test various API calls. She's also a fan of how Postman can help make sure the API documentation is up to date\n",
    "        \n",
    "- Both Ana and Roman will help the new Employee improve his efficiency by using Postman, they will show how much Postman simplifies working with APIs\n",
    "\n",
    "**Note:** No matter which Team, employee will be very familiar with GLOBOMANTICS APIs\n",
    "\n",
    "\n",
    "**Read time: 2m 7s**"
   ]
  }
 ],
 "metadata": {
  "kernelspec": {
   "display_name": "Python 3",
   "language": "python",
   "name": "python3"
  },
  "language_info": {
   "codemirror_mode": {
    "name": "ipython",
    "version": 3
   },
   "file_extension": ".py",
   "mimetype": "text/x-python",
   "name": "python",
   "nbconvert_exporter": "python",
   "pygments_lexer": "ipython3",
   "version": "3.9.0"
  }
 },
 "nbformat": 4,
 "nbformat_minor": 4
}
